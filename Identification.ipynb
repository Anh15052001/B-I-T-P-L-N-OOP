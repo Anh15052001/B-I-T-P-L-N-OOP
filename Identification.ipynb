{
  "nbformat": 4,
  "nbformat_minor": 0,
  "metadata": {
    "colab": {
      "name": "Identification.ipynb",
      "provenance": [],
      "mount_file_id": "1y-d19A_9f_EQDlnsi4zokOjH2WKDlaG3",
      "authorship_tag": "ABX9TyNekyV96KTyzaA8tU+RyE16",
      "include_colab_link": true
    },
    "kernelspec": {
      "name": "python3",
      "display_name": "Python 3"
    },
    "language_info": {
      "name": "python"
    }
  },
  "cells": [
    {
      "cell_type": "markdown",
      "metadata": {
        "id": "view-in-github",
        "colab_type": "text"
      },
      "source": [
        "<a href=\"https://colab.research.google.com/github/Anh15052001/B-I-T-P-L-N-OOP/blob/main/Identification.ipynb\" target=\"_parent\"><img src=\"https://colab.research.google.com/assets/colab-badge.svg\" alt=\"Open In Colab\"/></a>"
      ]
    },
    {
      "cell_type": "code",
      "metadata": {
        "id": "YBf44KEC2qo7"
      },
      "source": [
        "#kết nối colab với drive\n",
        "from google.colab import  drive\n"
      ],
      "execution_count": 16,
      "outputs": []
    },
    {
      "cell_type": "code",
      "metadata": {
        "colab": {
          "base_uri": "https://localhost:8080/"
        },
        "id": "gjQdSg6bkm7a",
        "outputId": "ff1cd010-dcc8-40ef-e968-e74548fb4984"
      },
      "source": [
        "from google.colab import drive\n",
        "drive.mount('/content/drive')"
      ],
      "execution_count": 17,
      "outputs": [
        {
          "output_type": "stream",
          "name": "stdout",
          "text": [
            "Drive already mounted at /content/drive; to attempt to forcibly remount, call drive.mount(\"/content/drive\", force_remount=True).\n"
          ]
        }
      ]
    },
    {
      "cell_type": "code",
      "metadata": {
        "colab": {
          "base_uri": "https://localhost:8080/"
        },
        "id": "bWJZKmPc3Lgo",
        "outputId": "03f2a9cf-bf62-48e3-c82a-5e2dbcab3ef6"
      },
      "source": [
        "drive.mount(\"/content/drive\")"
      ],
      "execution_count": 18,
      "outputs": [
        {
          "output_type": "stream",
          "name": "stdout",
          "text": [
            "Drive already mounted at /content/drive; to attempt to forcibly remount, call drive.mount(\"/content/drive\", force_remount=True).\n"
          ]
        }
      ]
    },
    {
      "cell_type": "code",
      "metadata": {
        "colab": {
          "base_uri": "https://localhost:8080/",
          "height": 35
        },
        "id": "MCyf0GvQ6mfP",
        "outputId": "cd67d39a-2b3b-4e7b-81bd-8e09e26375ce"
      },
      "source": [
        "pwd\n"
      ],
      "execution_count": 19,
      "outputs": [
        {
          "output_type": "execute_result",
          "data": {
            "application/vnd.google.colaboratory.intrinsic+json": {
              "type": "string"
            },
            "text/plain": [
              "'/content'"
            ]
          },
          "metadata": {},
          "execution_count": 19
        }
      ]
    },
    {
      "cell_type": "code",
      "metadata": {
        "colab": {
          "base_uri": "https://localhost:8080/"
        },
        "id": "vYomUqs-CFTx",
        "outputId": "6743756d-ba3e-474c-f8d7-6d9fc46c6a62"
      },
      "source": [
        "cd '/content/drive/MyDrive/DeepLearning/BIENBAO/'"
      ],
      "execution_count": 20,
      "outputs": [
        {
          "output_type": "stream",
          "name": "stdout",
          "text": [
            "/content/drive/MyDrive/DeepLearning/BIENBAO\n"
          ]
        }
      ]
    },
    {
      "cell_type": "code",
      "metadata": {
        "id": "cDzi7yD9CcEj",
        "colab": {
          "base_uri": "https://localhost:8080/"
        },
        "outputId": "974885b8-51db-40db-c727-f1d2d43291cd"
      },
      "source": [
        "ls"
      ],
      "execution_count": 21,
      "outputs": [
        {
          "output_type": "stream",
          "name": "stdout",
          "text": [
            "Identification.ipynb  test.p  traffic-signs-data.zip  train.p  valid.p\n"
          ]
        }
      ]
    },
    {
      "cell_type": "code",
      "metadata": {
        "colab": {
          "base_uri": "https://localhost:8080/"
        },
        "id": "RFfFwAMClIRF",
        "outputId": "e47301a4-c434-421e-95d8-8b69740dcc53"
      },
      "source": [
        "#lấy dữ liệu nhờ download wget\n",
        "!pip install wget"
      ],
      "execution_count": null,
      "outputs": [
        {
          "output_type": "stream",
          "name": "stdout",
          "text": [
            "Collecting wget\n",
            "  Downloading wget-3.2.zip (10 kB)\n",
            "Building wheels for collected packages: wget\n",
            "  Building wheel for wget (setup.py) ... \u001b[?25l\u001b[?25hdone\n",
            "  Created wheel for wget: filename=wget-3.2-py3-none-any.whl size=9672 sha256=956b179505fd46369ad78c4c8b3ab3f8d6dc9cf6dbaecdc5e689a4e9cc0a2132\n",
            "  Stored in directory: /root/.cache/pip/wheels/a1/b6/7c/0e63e34eb06634181c63adacca38b79ff8f35c37e3c13e3c02\n",
            "Successfully built wget\n",
            "Installing collected packages: wget\n",
            "Successfully installed wget-3.2\n"
          ]
        }
      ]
    },
    {
      "cell_type": "code",
      "metadata": {
        "id": "Sy1UNL5_lWfK"
      },
      "source": [
        "link='https://d17h27t6h515a5.cloudfront.net/topher/2017/February/5898cd6f_traffic-signs-data/traffic-signs-data.zip'"
      ],
      "execution_count": null,
      "outputs": []
    },
    {
      "cell_type": "code",
      "metadata": {
        "colab": {
          "base_uri": "https://localhost:8080/",
          "height": 35
        },
        "id": "zKET7M-qlgC0",
        "outputId": "1701bd95-aea9-4d6b-d659-44e35fbd7018"
      },
      "source": [
        "#chúng ta cài đặt được wget phải import nó để sử dụng\n",
        "import wget\n",
        "wget.download(link)"
      ],
      "execution_count": null,
      "outputs": [
        {
          "output_type": "execute_result",
          "data": {
            "application/vnd.google.colaboratory.intrinsic+json": {
              "type": "string"
            },
            "text/plain": [
              "'traffic-signs-data.zip'"
            ]
          },
          "metadata": {},
          "execution_count": 13
        }
      ]
    },
    {
      "cell_type": "code",
      "metadata": {
        "id": "bxixCvKllimt"
      },
      "source": [
        "#giải nén\n",
        "data='./'\n"
      ],
      "execution_count": 23,
      "outputs": []
    },
    {
      "cell_type": "code",
      "metadata": {
        "id": "A3Mj06_2mLjo"
      },
      "source": [
        "#tạo link đến các file\n",
        "train_link=data+\"train.p\"\n",
        "valid_link=data+\"valid.p\"\n",
        "test_link=data+\"test.p\""
      ],
      "execution_count": 24,
      "outputs": []
    },
    {
      "cell_type": "code",
      "metadata": {
        "id": "XngotPAXnf-b"
      },
      "source": [
        "#đọc file nhờ pickle và with open cho lưu vào train, valid và test\n",
        "import pickle\n",
        "with open(train_link, mode='rb') as f:\n",
        "       train=pickle.load(f)\n",
        "with open(valid_link, mode='rb') as f:\n",
        "       valid=pickle.load(f)\n",
        "with open(test_link, mode='rb') as f:\n",
        "       test=pickle.load(f)\n",
        "\n",
        "        "
      ],
      "execution_count": 26,
      "outputs": []
    },
    {
      "cell_type": "code",
      "metadata": {
        "id": "DfSAiPlP0ZSZ"
      },
      "source": [
        "#xây dựng dữ liệu tập train_X, nhãn train, valid feature và nhãn\n",
        "#tập các featute\n",
        "train_X=train[\"features\"]\n",
        "train_y=train[\"labels\"]\n",
        "valid_X=valid[\"features\"]\n",
        "valid_y=valid[\"labels\"]\n",
        "test_X=test[\"features\"]\n",
        "test_y=test[\"labels\"]"
      ],
      "execution_count": 27,
      "outputs": []
    },
    {
      "cell_type": "code",
      "metadata": {
        "colab": {
          "base_uri": "https://localhost:8080/"
        },
        "id": "nKuRgBba1Xwd",
        "outputId": "8825e9b8-7e63-449c-b678-7f54eabc3f45"
      },
      "source": [
        "#xem kích thước số ảnh số cột của tập dữ lịu\n",
        "print(train_X.shape)\n",
        "print(train_y.shape)\n",
        "print(valid_X.shape)\n",
        "print(valid_y.shape)\n",
        "print(test_X.shape)\n",
        "print(test_y.shape)"
      ],
      "execution_count": 28,
      "outputs": [
        {
          "output_type": "stream",
          "name": "stdout",
          "text": [
            "(34799, 32, 32, 3)\n",
            "(34799,)\n",
            "(4410, 32, 32, 3)\n",
            "(4410,)\n",
            "(12630, 32, 32, 3)\n",
            "(12630,)\n"
          ]
        }
      ]
    },
    {
      "cell_type": "code",
      "metadata": {
        "colab": {
          "base_uri": "https://localhost:8080/",
          "height": 283
        },
        "id": "U21KRcQm2bC-",
        "outputId": "e703c958-af5e-462a-aafb-7de61d1e1ea8"
      },
      "source": [
        "#hiển thị 1 vài ảnh\n",
        "import matplotlib.pyplot as plt\n",
        "plt.imshow(train_X[10000])\n",
        "print(train_y[10000])"
      ],
      "execution_count": 29,
      "outputs": [
        {
          "output_type": "stream",
          "name": "stdout",
          "text": [
            "0\n"
          ]
        },
        {
          "output_type": "display_data",
          "data": {
            "image/png": "[encoded data removed]",
            "text/plain": [
              "<Figure size 432x288 with 1 Axes>"
            ]
          },
          "metadata": {
            "needs_background": "light"
          }
        }
      ]
    },
    {
      "cell_type": "code",
      "metadata": {
        "id": "IR-7g9wi3GYN"
      },
      "source": [
        "classNames = {0: 'Speed limit (20km/h)',\n",
        " 1: 'Speed limit (30km/h)',\n",
        " 2: 'Speed limit (50km/h)',\n",
        " 3: 'Speed limit (60km/h)',\n",
        " 4: 'Speed limit (70km/h)',\n",
        " 5: 'Speed limit (80km/h)',\n",
        " 6: 'End of speed limit (80km/h)',\n",
        " 7: 'Speed limit (100km/h)',\n",
        " 8: 'Speed limit (120km/h)',\n",
        " 9: 'No passing',\n",
        " 10: 'No passing for vehicles over 3.5 metric tons',\n",
        " 11: 'Right-of-way at the next intersection',\n",
        " 12: 'Priority road',\n",
        " 13: 'Yield',\n",
        " 14: 'Stop',\n",
        " 15: 'No vehicles',\n",
        " 16: 'Vehicles over 3.5 metric tons prohibited',\n",
        " 17: 'No entry',\n",
        " 18: 'General caution',\n",
        " 19: 'Dangerous curve to the left',\n",
        " 20: 'Dangerous curve to the right',\n",
        " 21: 'Double curve',\n",
        " 22: 'Bumpy road',\n",
        " 23: 'Slippery road',\n",
        " 24: 'Road narrows on the right',\n",
        " 25: 'Road work',\n",
        " 26: 'Traffic signals',\n",
        " 27: 'Pedestrians',\n",
        " 28: 'Children crossing',\n",
        " 29: 'Bicycles crossing',\n",
        " 30: 'Beware of ice/snow',\n",
        " 31: 'Wild animals crossing',\n",
        " 32: 'End of all speed and passing limits',\n",
        " 33: 'Turn right ahead',\n",
        " 34: 'Turn left ahead',\n",
        " 35: 'Ahead only',\n",
        " 36: 'Go straight or right',\n",
        " 37: 'Go straight or left',\n",
        " 38: 'Keep right',\n",
        " 39: 'Keep left',\n",
        " 40: 'Roundabout mandatory',\n",
        " 41: 'End of no passing',\n",
        " 42: 'End of no passing by vehicles over 3.5 metric tons'}"
      ],
      "execution_count": 30,
      "outputs": []
    },
    {
      "cell_type": "code",
      "metadata": {
        "id": "qsFttAi2976I"
      },
      "source": [
        "from sklearn.utils import shuffle\n",
        "train_X, train_y=shuffle(train_X, train_y)"
      ],
      "execution_count": 31,
      "outputs": []
    },
    {
      "cell_type": "code",
      "metadata": {
        "id": "prcQumhA-ni_"
      },
      "source": [
        "#chuẩn hóa feature về dạng datapoint\n",
        "train_X=train_X.astype(\"float\")/255.0\n",
        "valid_X=valid_X.astype(\"float\")/255.0\n",
        "test_X=test_X.astype(\"float\")/255.0"
      ],
      "execution_count": 32,
      "outputs": []
    },
    {
      "cell_type": "code",
      "metadata": {
        "id": "G1gpXoVe_dVy"
      },
      "source": [
        "#chuẩn hóa one hot encoding về dạng vector\n",
        "from sklearn.preprocessing import LabelBinarizer\n",
        "lb=LabelBinarizer()\n",
        "train_y=lb.fit_transform(train_y)\n",
        "valid_y=lb.fit_transform(valid_y)\n",
        "test_y=lb.fit_transform(test_y)"
      ],
      "execution_count": 33,
      "outputs": []
    },
    {
      "cell_type": "code",
      "metadata": {
        "id": "P-Ns-YyU_5sO"
      },
      "source": [
        "#Xây dựng mô hình đầu vào là ảnh 32x32x3\n",
        "from tensorflow.keras.models import Sequential\n",
        "from tensorflow.keras.layers import Conv2D, Activation, MaxPooling2D, Flatten, Dense, BatchNormalization, Dropout"
      ],
      "execution_count": 34,
      "outputs": []
    },
    {
      "cell_type": "code",
      "metadata": {
        "id": "wPhouubJ_7ij"
      },
      "source": [
        "#khởi tạo 1 mô hình tuần tự\n",
        "model=Sequential()\n",
        "#Block1\n",
        "#lớp Con2D tăng độ dày, trích xuất các đặc trưng của ảnh\n",
        "#càng nhiều Con2D mô hình càng học được nhiều các đặc trưng của ảnh\n",
        "model.add(Conv2D(32, (3, 3), padding=\"same\", input_shape=(32,32,3)))\n",
        "#cho đầu ra 32x32x32\n",
        "model.add(Activation(\"relu\"))\n",
        "model.add(BatchNormalization())\n",
        "model.add(Conv2D(32, (3, 3), padding=\"same\"))\n",
        "model.add(Activation(\"relu\"))\n",
        "model.add(BatchNormalization())\n",
        "model.add(MaxPooling2D(pool_size=(2, 2)))\n",
        "#thêm 1 lớp MaxPooling giảm kích thước ảnh đi 1 nửa những vẫn giữ được độ dày\n",
        " "
      ],
      "execution_count": 35,
      "outputs": []
    },
    {
      "cell_type": "code",
      "metadata": {
        "id": "yDQn1oFuA5Dt"
      },
      "source": [
        "#đầu ra 16x16x32\n",
        "#cho độ dày lên 64 trích xuất thêm các đặc trưng ảnh\n",
        "model.add(Conv2D(64, (3, 3), padding=\"same\"))\n",
        "model.add(Activation(\"relu\"))\n",
        "model.add(BatchNormalization())\n",
        "model.add(Conv2D(64, (3, 3), padding=\"same\"))\n",
        "model.add(Activation(\"relu\"))\n",
        "model.add(BatchNormalization())\n",
        "#giảm kích thước đi 1 nửa vẫn giữ nguyên độ dày\n",
        "model.add(MaxPooling2D(pool_size=(2, 2)))\n",
        "#đầu ra 8x8x64 => duỗi ra vector 4096x1\n"
      ],
      "execution_count": 38,
      "outputs": []
    },
    {
      "cell_type": "code",
      "metadata": {
        "id": "RdJoeBh81l0t"
      },
      "source": [
        "model.add(Flatten())\n",
        "#vector 4096x1\n",
        "model.add(Dense(512, activation='relu'))\n",
        "model.add(Dense(43, activation='softmax'))\n"
      ],
      "execution_count": 39,
      "outputs": []
    },
    {
      "cell_type": "code",
      "metadata": {
        "colab": {
          "base_uri": "https://localhost:8080/"
        },
        "id": "UwMmXF75A8HO",
        "outputId": "0e47739f-88c7-4b56-963f-ca9c672bdc22"
      },
      "source": [
        "model.summary()"
      ],
      "execution_count": 40,
      "outputs": [
        {
          "output_type": "stream",
          "name": "stdout",
          "text": [
            "Model: \"sequential\"\n",
            "_________________________________________________________________\n",
            " Layer (type)                Output Shape              Param #   \n",
            "=================================================================\n",
            " conv2d (Conv2D)             (None, 32, 32, 32)        896       \n",
            "                                                                 \n",
            " activation (Activation)     (None, 32, 32, 32)        0         \n",
            "                                                                 \n",
            " batch_normalization (BatchN  (None, 32, 32, 32)       128       \n",
            " ormalization)                                                   \n",
            "                                                                 \n",
            " conv2d_1 (Conv2D)           (None, 32, 32, 32)        9248      \n",
            "                                                                 \n",
            " activation_1 (Activation)   (None, 32, 32, 32)        0         \n",
            "                                                                 \n",
            " batch_normalization_1 (Batc  (None, 32, 32, 32)       128       \n",
            " hNormalization)                                                 \n",
            "                                                                 \n",
            " max_pooling2d (MaxPooling2D  (None, 16, 16, 32)       0         \n",
            " )                                                               \n",
            "                                                                 \n",
            " conv2d_2 (Conv2D)           (None, 16, 16, 64)        18496     \n",
            "                                                                 \n",
            " activation_2 (Activation)   (None, 16, 16, 64)        0         \n",
            "                                                                 \n",
            " batch_normalization_2 (Batc  (None, 16, 16, 64)       256       \n",
            " hNormalization)                                                 \n",
            "                                                                 \n",
            " conv2d_3 (Conv2D)           (None, 16, 16, 64)        36928     \n",
            "                                                                 \n",
            " activation_3 (Activation)   (None, 16, 16, 64)        0         \n",
            "                                                                 \n",
            " batch_normalization_3 (Batc  (None, 16, 16, 64)       256       \n",
            " hNormalization)                                                 \n",
            "                                                                 \n",
            " conv2d_4 (Conv2D)           (None, 16, 16, 64)        36928     \n",
            "                                                                 \n",
            " conv2d_5 (Conv2D)           (None, 16, 16, 64)        36928     \n",
            "                                                                 \n",
            " activation_4 (Activation)   (None, 16, 16, 64)        0         \n",
            "                                                                 \n",
            " batch_normalization_4 (Batc  (None, 16, 16, 64)       256       \n",
            " hNormalization)                                                 \n",
            "                                                                 \n",
            " conv2d_6 (Conv2D)           (None, 16, 16, 64)        36928     \n",
            "                                                                 \n",
            " activation_5 (Activation)   (None, 16, 16, 64)        0         \n",
            "                                                                 \n",
            " batch_normalization_5 (Batc  (None, 16, 16, 64)       256       \n",
            " hNormalization)                                                 \n",
            "                                                                 \n",
            " max_pooling2d_1 (MaxPooling  (None, 8, 8, 64)         0         \n",
            " 2D)                                                             \n",
            "                                                                 \n",
            " flatten (Flatten)           (None, 4096)              0         \n",
            "                                                                 \n",
            " dense (Dense)               (None, 512)               2097664   \n",
            "                                                                 \n",
            " dense_1 (Dense)             (None, 43)                22059     \n",
            "                                                                 \n",
            "=================================================================\n",
            "Total params: 2,297,355\n",
            "Trainable params: 2,296,715\n",
            "Non-trainable params: 640\n",
            "_________________________________________________________________\n"
          ]
        }
      ]
    },
    {
      "cell_type": "code",
      "metadata": {
        "id": "urShkX5tBKnc"
      },
      "source": [
        "from tensorflow.keras.preprocessing.image import ImageDataGenerator\n",
        "from tensorflow.keras.optimizers import SGD\n",
        "from tensorflow.keras.layers import concatenate\n"
      ],
      "execution_count": 41,
      "outputs": []
    },
    {
      "cell_type": "code",
      "metadata": {
        "id": "0i4B7u9iBoq8"
      },
      "source": [
        "#tăng cường data\n",
        "aug=ImageDataGenerator(rotation_range=0.18, zoom_range=0.15, width_shift_range=0.2, height_shift_range=0.2, horizontal_flip=True)\n",
        "#xác định hàm tối ưu để biên dịch\n",
        "opt=SGD(learning_rate=0.01, momentum=0.9)\n",
        "#thực hiện biên dịch\n",
        "model.compile(optimizer=opt, loss=\"categorical_crossentropy\", metrics=[\"accuracy\"])\n",
        "\n"
      ],
      "execution_count": 44,
      "outputs": []
    },
    {
      "cell_type": "code",
      "metadata": {
        "colab": {
          "base_uri": "https://localhost:8080/"
        },
        "id": "gfWvtLbZCUj7",
        "outputId": "ae2a1152-4b78-4a92-c109-61d8cd09bd60"
      },
      "source": [
        "#thực hiện huấn luyện \n",
        "print(\"Trainning.....\")\n",
        "H=model.fit_generator(aug.flow(train_X, train_y), validation_data=(valid_X, valid_y), steps_per_epoch=train_X.shape[0]//64, epochs=10, verbose=1)"
      ],
      "execution_count": 45,
      "outputs": [
        {
          "output_type": "stream",
          "name": "stdout",
          "text": [
            "Trainning.....\n"
          ]
        },
        {
          "output_type": "stream",
          "name": "stderr",
          "text": [
            "/usr/local/lib/python3.7/dist-packages/ipykernel_launcher.py:3: UserWarning: `Model.fit_generator` is deprecated and will be removed in a future version. Please use `Model.fit`, which supports generators.\n",
            "  This is separate from the ipykernel package so we can avoid doing imports until\n"
          ]
        },
        {
          "output_type": "stream",
          "name": "stdout",
          "text": [
            "Epoch 1/10\n",
            "543/543 [==============================] - 218s 398ms/step - loss: 2.7592 - accuracy: 0.2379 - val_loss: 3.7543 - val_accuracy: 0.2351\n",
            "Epoch 2/10\n",
            "543/543 [==============================] - 216s 397ms/step - loss: 1.4650 - accuracy: 0.5357 - val_loss: 1.4401 - val_accuracy: 0.5610\n",
            "Epoch 3/10\n",
            "543/543 [==============================] - 216s 397ms/step - loss: 0.9369 - accuracy: 0.6815 - val_loss: 1.1169 - val_accuracy: 0.6995\n",
            "Epoch 4/10\n",
            "543/543 [==============================] - 216s 397ms/step - loss: 0.6315 - accuracy: 0.7871 - val_loss: 0.9555 - val_accuracy: 0.7311\n",
            "Epoch 5/10\n",
            "543/543 [==============================] - 215s 396ms/step - loss: 0.4776 - accuracy: 0.8383 - val_loss: 1.0258 - val_accuracy: 0.7213\n",
            "Epoch 6/10\n",
            "543/543 [==============================] - 214s 395ms/step - loss: 0.3621 - accuracy: 0.8768 - val_loss: 1.0836 - val_accuracy: 0.7220\n",
            "Epoch 7/10\n",
            "543/543 [==============================] - 215s 396ms/step - loss: 0.2943 - accuracy: 0.8982 - val_loss: 0.9417 - val_accuracy: 0.7576\n",
            "Epoch 8/10\n",
            "543/543 [==============================] - 216s 397ms/step - loss: 0.2497 - accuracy: 0.9159 - val_loss: 0.7307 - val_accuracy: 0.8091\n",
            "Epoch 9/10\n",
            "543/543 [==============================] - 215s 397ms/step - loss: 0.2047 - accuracy: 0.9304 - val_loss: 0.6770 - val_accuracy: 0.8417\n",
            "Epoch 10/10\n",
            "543/543 [==============================] - 215s 396ms/step - loss: 0.1724 - accuracy: 0.9398 - val_loss: 0.9025 - val_accuracy: 0.8102\n"
          ]
        }
      ]
    },
    {
      "cell_type": "code",
      "metadata": {
        "colab": {
          "base_uri": "https://localhost:8080/",
          "height": 301
        },
        "id": "3jTUxV2uC1Ys",
        "outputId": "90755ae0-d3c1-4f94-fb15-b6409061312d"
      },
      "source": [
        "\n",
        "plt.imshow(test_X[320])\n",
        "import numpy as np\n",
        "y_predict=model.predict(test_X[320:321])\n",
        "y_predict=np.argmax(y_predict)\n",
        "print(y_predict)\n",
        "print(classNames[y_predict])"
      ],
      "execution_count": 67,
      "outputs": [
        {
          "output_type": "stream",
          "name": "stdout",
          "text": [
            "8\n",
            "Speed limit (120km/h)\n"
          ]
        },
        {
          "output_type": "display_data",
          "data": {
            "image/png": "[encoded data removed]",
            "text/plain": [
              "<Figure size 432x288 with 1 Axes>"
            ]
          },
          "metadata": {
            "needs_background": "light"
          }
        }
      ]
    },
    {
      "cell_type": "code",
      "metadata": {
        "id": "YgSH7wmTWf5H"
      },
      "source": [
        ""
      ],
      "execution_count": null,
      "outputs": []
    }
  ]
}